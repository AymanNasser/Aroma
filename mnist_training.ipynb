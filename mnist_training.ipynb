{
  "nbformat": 4,
  "nbformat_minor": 0,
  "metadata": {
    "colab": {
      "name": "Copy of mnist_train.ipynb",
      "provenance": [],
      "collapsed_sections": [],
      "toc_visible": true
    },
    "kernelspec": {
      "name": "python3",
      "display_name": "Python 3"
    }
  },
  "cells": [
    {
      "cell_type": "markdown",
      "metadata": {
        "id": "XPpI8RD5HoCj"
      },
      "source": [
        "# Installing & Loading Packages"
      ]
    },
    {
      "cell_type": "code",
      "metadata": {
        "id": "gicsi7iRHbz2"
      },
      "source": [
        "!pip install pyaroma==0.1 --quiet\n",
        "!pip install tqdm --quiet\n",
        "!pip install livelossplot --quiet"
      ],
      "execution_count": 5,
      "outputs": []
    },
    {
      "cell_type": "code",
      "metadata": {
        "colab": {
          "resources": {
            "http://localhost:8080/nbextensions/google.colab/files.js": {
              "data": "Ly8gQ29weXJpZ2h0IDIwMTcgR29vZ2xlIExMQwovLwovLyBMaWNlbnNlZCB1bmRlciB0aGUgQXBhY2hlIExpY2Vuc2UsIFZlcnNpb24gMi4wICh0aGUgIkxpY2Vuc2UiKTsKLy8geW91IG1heSBub3QgdXNlIHRoaXMgZmlsZSBleGNlcHQgaW4gY29tcGxpYW5jZSB3aXRoIHRoZSBMaWNlbnNlLgovLyBZb3UgbWF5IG9idGFpbiBhIGNvcHkgb2YgdGhlIExpY2Vuc2UgYXQKLy8KLy8gICAgICBodHRwOi8vd3d3LmFwYWNoZS5vcmcvbGljZW5zZXMvTElDRU5TRS0yLjAKLy8KLy8gVW5sZXNzIHJlcXVpcmVkIGJ5IGFwcGxpY2FibGUgbGF3IG9yIGFncmVlZCB0byBpbiB3cml0aW5nLCBzb2Z0d2FyZQovLyBkaXN0cmlidXRlZCB1bmRlciB0aGUgTGljZW5zZSBpcyBkaXN0cmlidXRlZCBvbiBhbiAiQVMgSVMiIEJBU0lTLAovLyBXSVRIT1VUIFdBUlJBTlRJRVMgT1IgQ09ORElUSU9OUyBPRiBBTlkgS0lORCwgZWl0aGVyIGV4cHJlc3Mgb3IgaW1wbGllZC4KLy8gU2VlIHRoZSBMaWNlbnNlIGZvciB0aGUgc3BlY2lmaWMgbGFuZ3VhZ2UgZ292ZXJuaW5nIHBlcm1pc3Npb25zIGFuZAovLyBsaW1pdGF0aW9ucyB1bmRlciB0aGUgTGljZW5zZS4KCi8qKgogKiBAZmlsZW92ZXJ2aWV3IEhlbHBlcnMgZm9yIGdvb2dsZS5jb2xhYiBQeXRob24gbW9kdWxlLgogKi8KKGZ1bmN0aW9uKHNjb3BlKSB7CmZ1bmN0aW9uIHNwYW4odGV4dCwgc3R5bGVBdHRyaWJ1dGVzID0ge30pIHsKICBjb25zdCBlbGVtZW50ID0gZG9jdW1lbnQuY3JlYXRlRWxlbWVudCgnc3BhbicpOwogIGVsZW1lbnQudGV4dENvbnRlbnQgPSB0ZXh0OwogIGZvciAoY29uc3Qga2V5IG9mIE9iamVjdC5rZXlzKHN0eWxlQXR0cmlidXRlcykpIHsKICAgIGVsZW1lbnQuc3R5bGVba2V5XSA9IHN0eWxlQXR0cmlidXRlc1trZXldOwogIH0KICByZXR1cm4gZWxlbWVudDsKfQoKLy8gTWF4IG51bWJlciBvZiBieXRlcyB3aGljaCB3aWxsIGJlIHVwbG9hZGVkIGF0IGEgdGltZS4KY29uc3QgTUFYX1BBWUxPQURfU0laRSA9IDEwMCAqIDEwMjQ7CgpmdW5jdGlvbiBfdXBsb2FkRmlsZXMoaW5wdXRJZCwgb3V0cHV0SWQpIHsKICBjb25zdCBzdGVwcyA9IHVwbG9hZEZpbGVzU3RlcChpbnB1dElkLCBvdXRwdXRJZCk7CiAgY29uc3Qgb3V0cHV0RWxlbWVudCA9IGRvY3VtZW50LmdldEVsZW1lbnRCeUlkKG91dHB1dElkKTsKICAvLyBDYWNoZSBzdGVwcyBvbiB0aGUgb3V0cHV0RWxlbWVudCB0byBtYWtlIGl0IGF2YWlsYWJsZSBmb3IgdGhlIG5leHQgY2FsbAogIC8vIHRvIHVwbG9hZEZpbGVzQ29udGludWUgZnJvbSBQeXRob24uCiAgb3V0cHV0RWxlbWVudC5zdGVwcyA9IHN0ZXBzOwoKICByZXR1cm4gX3VwbG9hZEZpbGVzQ29udGludWUob3V0cHV0SWQpOwp9CgovLyBUaGlzIGlzIHJvdWdobHkgYW4gYXN5bmMgZ2VuZXJhdG9yIChub3Qgc3VwcG9ydGVkIGluIHRoZSBicm93c2VyIHlldCksCi8vIHdoZXJlIHRoZXJlIGFyZSBtdWx0aXBsZSBhc3luY2hyb25vdXMgc3RlcHMgYW5kIHRoZSBQeXRob24gc2lkZSBpcyBnb2luZwovLyB0byBwb2xsIGZvciBjb21wbGV0aW9uIG9mIGVhY2ggc3RlcC4KLy8gVGhpcyB1c2VzIGEgUHJvbWlzZSB0byBibG9jayB0aGUgcHl0aG9uIHNpZGUgb24gY29tcGxldGlvbiBvZiBlYWNoIHN0ZXAsCi8vIHRoZW4gcGFzc2VzIHRoZSByZXN1bHQgb2YgdGhlIHByZXZpb3VzIHN0ZXAgYXMgdGhlIGlucHV0IHRvIHRoZSBuZXh0IHN0ZXAuCmZ1bmN0aW9uIF91cGxvYWRGaWxlc0NvbnRpbnVlKG91dHB1dElkKSB7CiAgY29uc3Qgb3V0cHV0RWxlbWVudCA9IGRvY3VtZW50LmdldEVsZW1lbnRCeUlkKG91dHB1dElkKTsKICBjb25zdCBzdGVwcyA9IG91dHB1dEVsZW1lbnQuc3RlcHM7CgogIGNvbnN0IG5leHQgPSBzdGVwcy5uZXh0KG91dHB1dEVsZW1lbnQubGFzdFByb21pc2VWYWx1ZSk7CiAgcmV0dXJuIFByb21pc2UucmVzb2x2ZShuZXh0LnZhbHVlLnByb21pc2UpLnRoZW4oKHZhbHVlKSA9PiB7CiAgICAvLyBDYWNoZSB0aGUgbGFzdCBwcm9taXNlIHZhbHVlIHRvIG1ha2UgaXQgYXZhaWxhYmxlIHRvIHRoZSBuZXh0CiAgICAvLyBzdGVwIG9mIHRoZSBnZW5lcmF0b3IuCiAgICBvdXRwdXRFbGVtZW50Lmxhc3RQcm9taXNlVmFsdWUgPSB2YWx1ZTsKICAgIHJldHVybiBuZXh0LnZhbHVlLnJlc3BvbnNlOwogIH0pOwp9CgovKioKICogR2VuZXJhdG9yIGZ1bmN0aW9uIHdoaWNoIGlzIGNhbGxlZCBiZXR3ZWVuIGVhY2ggYXN5bmMgc3RlcCBvZiB0aGUgdXBsb2FkCiAqIHByb2Nlc3MuCiAqIEBwYXJhbSB7c3RyaW5nfSBpbnB1dElkIEVsZW1lbnQgSUQgb2YgdGhlIGlucHV0IGZpbGUgcGlja2VyIGVsZW1lbnQuCiAqIEBwYXJhbSB7c3RyaW5nfSBvdXRwdXRJZCBFbGVtZW50IElEIG9mIHRoZSBvdXRwdXQgZGlzcGxheS4KICogQHJldHVybiB7IUl0ZXJhYmxlPCFPYmplY3Q+fSBJdGVyYWJsZSBvZiBuZXh0IHN0ZXBzLgogKi8KZnVuY3Rpb24qIHVwbG9hZEZpbGVzU3RlcChpbnB1dElkLCBvdXRwdXRJZCkgewogIGNvbnN0IGlucHV0RWxlbWVudCA9IGRvY3VtZW50LmdldEVsZW1lbnRCeUlkKGlucHV0SWQpOwogIGlucHV0RWxlbWVudC5kaXNhYmxlZCA9IGZhbHNlOwoKICBjb25zdCBvdXRwdXRFbGVtZW50ID0gZG9jdW1lbnQuZ2V0RWxlbWVudEJ5SWQob3V0cHV0SWQpOwogIG91dHB1dEVsZW1lbnQuaW5uZXJIVE1MID0gJyc7CgogIGNvbnN0IHBpY2tlZFByb21pc2UgPSBuZXcgUHJvbWlzZSgocmVzb2x2ZSkgPT4gewogICAgaW5wdXRFbGVtZW50LmFkZEV2ZW50TGlzdGVuZXIoJ2NoYW5nZScsIChlKSA9PiB7CiAgICAgIHJlc29sdmUoZS50YXJnZXQuZmlsZXMpOwogICAgfSk7CiAgfSk7CgogIGNvbnN0IGNhbmNlbCA9IGRvY3VtZW50LmNyZWF0ZUVsZW1lbnQoJ2J1dHRvbicpOwogIGlucHV0RWxlbWVudC5wYXJlbnRFbGVtZW50LmFwcGVuZENoaWxkKGNhbmNlbCk7CiAgY2FuY2VsLnRleHRDb250ZW50ID0gJ0NhbmNlbCB1cGxvYWQnOwogIGNvbnN0IGNhbmNlbFByb21pc2UgPSBuZXcgUHJvbWlzZSgocmVzb2x2ZSkgPT4gewogICAgY2FuY2VsLm9uY2xpY2sgPSAoKSA9PiB7CiAgICAgIHJlc29sdmUobnVsbCk7CiAgICB9OwogIH0pOwoKICAvLyBXYWl0IGZvciB0aGUgdXNlciB0byBwaWNrIHRoZSBmaWxlcy4KICBjb25zdCBmaWxlcyA9IHlpZWxkIHsKICAgIHByb21pc2U6IFByb21pc2UucmFjZShbcGlja2VkUHJvbWlzZSwgY2FuY2VsUHJvbWlzZV0pLAogICAgcmVzcG9uc2U6IHsKICAgICAgYWN0aW9uOiAnc3RhcnRpbmcnLAogICAgfQogIH07CgogIGNhbmNlbC5yZW1vdmUoKTsKCiAgLy8gRGlzYWJsZSB0aGUgaW5wdXQgZWxlbWVudCBzaW5jZSBmdXJ0aGVyIHBpY2tzIGFyZSBub3QgYWxsb3dlZC4KICBpbnB1dEVsZW1lbnQuZGlzYWJsZWQgPSB0cnVlOwoKICBpZiAoIWZpbGVzKSB7CiAgICByZXR1cm4gewogICAgICByZXNwb25zZTogewogICAgICAgIGFjdGlvbjogJ2NvbXBsZXRlJywKICAgICAgfQogICAgfTsKICB9CgogIGZvciAoY29uc3QgZmlsZSBvZiBmaWxlcykgewogICAgY29uc3QgbGkgPSBkb2N1bWVudC5jcmVhdGVFbGVtZW50KCdsaScpOwogICAgbGkuYXBwZW5kKHNwYW4oZmlsZS5uYW1lLCB7Zm9udFdlaWdodDogJ2JvbGQnfSkpOwogICAgbGkuYXBwZW5kKHNwYW4oCiAgICAgICAgYCgke2ZpbGUudHlwZSB8fCAnbi9hJ30pIC0gJHtmaWxlLnNpemV9IGJ5dGVzLCBgICsKICAgICAgICBgbGFzdCBtb2RpZmllZDogJHsKICAgICAgICAgICAgZmlsZS5sYXN0TW9kaWZpZWREYXRlID8gZmlsZS5sYXN0TW9kaWZpZWREYXRlLnRvTG9jYWxlRGF0ZVN0cmluZygpIDoKICAgICAgICAgICAgICAgICAgICAgICAgICAgICAgICAgICAgJ24vYSd9IC0gYCkpOwogICAgY29uc3QgcGVyY2VudCA9IHNwYW4oJzAlIGRvbmUnKTsKICAgIGxpLmFwcGVuZENoaWxkKHBlcmNlbnQpOwoKICAgIG91dHB1dEVsZW1lbnQuYXBwZW5kQ2hpbGQobGkpOwoKICAgIGNvbnN0IGZpbGVEYXRhUHJvbWlzZSA9IG5ldyBQcm9taXNlKChyZXNvbHZlKSA9PiB7CiAgICAgIGNvbnN0IHJlYWRlciA9IG5ldyBGaWxlUmVhZGVyKCk7CiAgICAgIHJlYWRlci5vbmxvYWQgPSAoZSkgPT4gewogICAgICAgIHJlc29sdmUoZS50YXJnZXQucmVzdWx0KTsKICAgICAgfTsKICAgICAgcmVhZGVyLnJlYWRBc0FycmF5QnVmZmVyKGZpbGUpOwogICAgfSk7CiAgICAvLyBXYWl0IGZvciB0aGUgZGF0YSB0byBiZSByZWFkeS4KICAgIGxldCBmaWxlRGF0YSA9IHlpZWxkIHsKICAgICAgcHJvbWlzZTogZmlsZURhdGFQcm9taXNlLAogICAgICByZXNwb25zZTogewogICAgICAgIGFjdGlvbjogJ2NvbnRpbnVlJywKICAgICAgfQogICAgfTsKCiAgICAvLyBVc2UgYSBjaHVua2VkIHNlbmRpbmcgdG8gYXZvaWQgbWVzc2FnZSBzaXplIGxpbWl0cy4gU2VlIGIvNjIxMTU2NjAuCiAgICBsZXQgcG9zaXRpb24gPSAwOwogICAgd2hpbGUgKHBvc2l0aW9uIDwgZmlsZURhdGEuYnl0ZUxlbmd0aCkgewogICAgICBjb25zdCBsZW5ndGggPSBNYXRoLm1pbihmaWxlRGF0YS5ieXRlTGVuZ3RoIC0gcG9zaXRpb24sIE1BWF9QQVlMT0FEX1NJWkUpOwogICAgICBjb25zdCBjaHVuayA9IG5ldyBVaW50OEFycmF5KGZpbGVEYXRhLCBwb3NpdGlvbiwgbGVuZ3RoKTsKICAgICAgcG9zaXRpb24gKz0gbGVuZ3RoOwoKICAgICAgY29uc3QgYmFzZTY0ID0gYnRvYShTdHJpbmcuZnJvbUNoYXJDb2RlLmFwcGx5KG51bGwsIGNodW5rKSk7CiAgICAgIHlpZWxkIHsKICAgICAgICByZXNwb25zZTogewogICAgICAgICAgYWN0aW9uOiAnYXBwZW5kJywKICAgICAgICAgIGZpbGU6IGZpbGUubmFtZSwKICAgICAgICAgIGRhdGE6IGJhc2U2NCwKICAgICAgICB9LAogICAgICB9OwogICAgICBwZXJjZW50LnRleHRDb250ZW50ID0KICAgICAgICAgIGAke01hdGgucm91bmQoKHBvc2l0aW9uIC8gZmlsZURhdGEuYnl0ZUxlbmd0aCkgKiAxMDApfSUgZG9uZWA7CiAgICB9CiAgfQoKICAvLyBBbGwgZG9uZS4KICB5aWVsZCB7CiAgICByZXNwb25zZTogewogICAgICBhY3Rpb246ICdjb21wbGV0ZScsCiAgICB9CiAgfTsKfQoKc2NvcGUuZ29vZ2xlID0gc2NvcGUuZ29vZ2xlIHx8IHt9OwpzY29wZS5nb29nbGUuY29sYWIgPSBzY29wZS5nb29nbGUuY29sYWIgfHwge307CnNjb3BlLmdvb2dsZS5jb2xhYi5fZmlsZXMgPSB7CiAgX3VwbG9hZEZpbGVzLAogIF91cGxvYWRGaWxlc0NvbnRpbnVlLAp9Owp9KShzZWxmKTsK",
              "ok": true,
              "headers": [
                [
                  "content-type",
                  "application/javascript"
                ]
              ],
              "status": 200,
              "status_text": ""
            }
          },
          "base_uri": "https://localhost:8080/",
          "height": 72
        },
        "id": "QIOguINDLC6q",
        "outputId": "c2c263a5-8f6b-4e4c-c741-dd7999870219"
      },
      "source": [
        "from google.colab import files\n",
        "files.upload()\n",
        "! cp kaggle.json ~/.kaggle/\n",
        "! chmod 600 ~/.kaggle/kaggle.json"
      ],
      "execution_count": 6,
      "outputs": [
        {
          "output_type": "display_data",
          "data": {
            "text/html": [
              "\n",
              "     <input type=\"file\" id=\"files-ddc36fee-9b45-43cc-86f4-9325e8530632\" name=\"files[]\" multiple disabled\n",
              "        style=\"border:none\" />\n",
              "     <output id=\"result-ddc36fee-9b45-43cc-86f4-9325e8530632\">\n",
              "      Upload widget is only available when the cell has been executed in the\n",
              "      current browser session. Please rerun this cell to enable.\n",
              "      </output>\n",
              "      <script src=\"/nbextensions/google.colab/files.js\"></script> "
            ],
            "text/plain": [
              "<IPython.core.display.HTML object>"
            ]
          },
          "metadata": {
            "tags": []
          }
        },
        {
          "output_type": "stream",
          "text": [
            "Saving kaggle.json to kaggle (1).json\n"
          ],
          "name": "stdout"
        }
      ]
    },
    {
      "cell_type": "code",
      "metadata": {
        "id": "QhdcRhMOK-qz"
      },
      "source": [
        "# IMPORTS\n",
        "from nn.model import Model\n",
        "from nn.activations import *\n",
        "from nn.layers import *\n",
        "from nn.losses import *\n",
        "from optim.optimizers import Adam, SGD\n",
        "from utils.dataloader import DataLoader\n",
        "from eval.evaluation import Evaluation\n",
        "from viz.visualization import Visualization\n",
        "from utils.transforms import Transform\n",
        "from tqdm import tqdm\n",
        "import seaborn as sns\n",
        "\n",
        "%matplotlib inline\n",
        "\n",
        "from time import sleep\n",
        "from matplotlib import pyplot as plt\n",
        "import numpy as np\n",
        "\n",
        "from livelossplot import PlotLosses\n",
        "from livelossplot.outputs import MatplotlibPlot\n"
      ],
      "execution_count": 7,
      "outputs": []
    },
    {
      "cell_type": "markdown",
      "metadata": {
        "id": "QFg1uNC_H2vv"
      },
      "source": [
        "# Data Loading"
      ]
    },
    {
      "cell_type": "code",
      "metadata": {
        "id": "Rg8hTqVXHrU7",
        "colab": {
          "base_uri": "https://localhost:8080/"
        },
        "outputId": "888542bd-b591-4fae-c1cc-77899159e28e"
      },
      "source": [
        "data_loader = DataLoader(split_ratio=0.2, download=True, batch_size=32, shuffle=True)\n",
        "\n",
        "# Training\n",
        "X_train, y_train = data_loader.get_train_data(tensor_shape='2D')\n",
        "transform_ = Transform()\n",
        "X_train = transform_.normalize(X_train)\n",
        "batches = data_loader.get_batched_data(X_train, y_train)\n",
        "\n",
        "# Validation\n",
        "X_val, Y_val = data_loader.get_validation_data()\n",
        "X_val = transform_.normalize(X_val)"
      ],
      "execution_count": 8,
      "outputs": [
        {
          "output_type": "stream",
          "text": [
            "/content/digit-recognizer/train.csv\n"
          ],
          "name": "stdout"
        }
      ]
    },
    {
      "cell_type": "markdown",
      "metadata": {
        "id": "CUQYmhihI4Ru"
      },
      "source": [
        "# Data Analysis"
      ]
    },
    {
      "cell_type": "code",
      "metadata": {
        "id": "F3vIXYPqI_K4",
        "colab": {
          "base_uri": "https://localhost:8080/"
        },
        "outputId": "5ddff154-706e-4625-d69b-985d3476e778"
      },
      "source": [
        "df = data_loader.get_pandas_frame()\n",
        "df.head(), df.describe()"
      ],
      "execution_count": 9,
      "outputs": [
        {
          "output_type": "execute_result",
          "data": {
            "text/plain": [
              "(   label  pixel0  pixel1  pixel2  ...  pixel780  pixel781  pixel782  pixel783\n",
              " 0      1       0       0       0  ...         0         0         0         0\n",
              " 1      0       0       0       0  ...         0         0         0         0\n",
              " 2      1       0       0       0  ...         0         0         0         0\n",
              " 3      4       0       0       0  ...         0         0         0         0\n",
              " 4      0       0       0       0  ...         0         0         0         0\n",
              " \n",
              " [5 rows x 785 columns],\n",
              "               label   pixel0   pixel1  ...  pixel781  pixel782  pixel783\n",
              " count  42000.000000  42000.0  42000.0  ...   42000.0   42000.0   42000.0\n",
              " mean       4.456643      0.0      0.0  ...       0.0       0.0       0.0\n",
              " std        2.887730      0.0      0.0  ...       0.0       0.0       0.0\n",
              " min        0.000000      0.0      0.0  ...       0.0       0.0       0.0\n",
              " 25%        2.000000      0.0      0.0  ...       0.0       0.0       0.0\n",
              " 50%        4.000000      0.0      0.0  ...       0.0       0.0       0.0\n",
              " 75%        7.000000      0.0      0.0  ...       0.0       0.0       0.0\n",
              " max        9.000000      0.0      0.0  ...       0.0       0.0       0.0\n",
              " \n",
              " [8 rows x 785 columns])"
            ]
          },
          "metadata": {
            "tags": []
          },
          "execution_count": 9
        }
      ]
    },
    {
      "cell_type": "code",
      "metadata": {
        "id": "_YRCOAaYJrRb",
        "colab": {
          "base_uri": "https://localhost:8080/",
          "height": 350
        },
        "outputId": "568b8e1d-f1a0-42ba-fddd-6717aac5955f"
      },
      "source": [
        "sns.countplot(df['label'])\n",
        "df.isnull().sum().sum()"
      ],
      "execution_count": 10,
      "outputs": [
        {
          "output_type": "stream",
          "text": [
            "/usr/local/lib/python3.6/dist-packages/seaborn/_decorators.py:43: FutureWarning: Pass the following variable as a keyword arg: x. From version 0.12, the only valid positional argument will be `data`, and passing other arguments without an explicit keyword will result in an error or misinterpretation.\n",
            "  FutureWarning\n"
          ],
          "name": "stderr"
        },
        {
          "output_type": "execute_result",
          "data": {
            "text/plain": [
              "0"
            ]
          },
          "metadata": {
            "tags": []
          },
          "execution_count": 10
        },
        {
          "output_type": "display_data",
          "data": {
            "image/png": "[encoded data removed]",
            "text/plain": [
              "<Figure size 432x288 with 1 Axes>"
            ]
          },
          "metadata": {
            "tags": [],
            "needs_background": "light"
          }
        }
      ]
    },
    {
      "cell_type": "code",
      "metadata": {
        "id": "DC8tynjEKRi_",
        "colab": {
          "base_uri": "https://localhost:8080/",
          "height": 282
        },
        "outputId": "496aa684-4e43-417c-c217-622775c68e4e"
      },
      "source": [
        "# Vis. module\n",
        "vis = Visualization()\n",
        "\n",
        "img_index = 20\n",
        "sample = data_loader.get_train_sample(img_index)\n",
        "vis.plot_sample(sample)"
      ],
      "execution_count": 11,
      "outputs": [
        {
          "output_type": "stream",
          "text": [
            "Sample Label: [5]\n"
          ],
          "name": "stdout"
        },
        {
          "output_type": "display_data",
          "data": {
            "image/png": "[encoded data removed]",
            "text/plain": [
              "<Figure size 432x288 with 1 Axes>"
            ]
          },
          "metadata": {
            "tags": [],
            "needs_background": "light"
          }
        }
      ]
    },
    {
      "cell_type": "markdown",
      "metadata": {
        "id": "Vbd1P0eXOvue"
      },
      "source": [
        "# **Training using Linear Layers**"
      ]
    },
    {
      "cell_type": "code",
      "metadata": {
        "id": "_LOOyA6IKLMz"
      },
      "source": [
        "def training_loop(epochs, model, batches, vis):\n",
        "  for epoch in range(epochs):\n",
        "    for X,Y in tqdm(batches):\n",
        "      Y_pred = model.forward(X)\n",
        "      loss = model.compute_cost(Y, Y_pred)\n",
        "      model.backward()\n",
        "      model.step()\n",
        "  \n",
        "    plotlosses.update({\n",
        "            'loss': loss\n",
        "        })\n",
        "    plotlosses.send()\n",
        "    \n",
        "    # vis.plot_live_update(xlabel=\"Epoch No.\", x=epoch + 1, ylabel=\"Loss\", y=loss)\n",
        "\n",
        "  # vis.pause_figure() "
      ],
      "execution_count": 12,
      "outputs": []
    },
    {
      "cell_type": "markdown",
      "metadata": {
        "id": "Z2Zjij2bJy7W"
      },
      "source": [
        "## Model Definition"
      ]
    },
    {
      "cell_type": "code",
      "metadata": {
        "id": "YIIFf6_tIJqI"
      },
      "source": [
        "INPUT_FEATURE = 784\n",
        "betas = (0.9, 0.999)\n",
        "momentum = 0.9\n",
        "learning_rate = 0.001\n",
        "eps = 1e-8\n",
        "EPOCHS = 16\n",
        "groups = {'Live Loss Update': ['loss']}\n",
        "plotlosses = PlotLosses(groups=groups, outputs=[MatplotlibPlot()])"
      ],
      "execution_count": 22,
      "outputs": []
    },
    {
      "cell_type": "code",
      "metadata": {
        "id": "Cbbbtfe0J1a8"
      },
      "source": [
        "net = Model(layers= [Linear(INPUT_FEATURE,128, init_type='xavier'),\n",
        "                     ReLU(),\n",
        "                     Linear(128,64, init_type='xavier'),\n",
        "                     ReLU(),\n",
        "                     Linear(64,32, init_type='xavier'),\n",
        "                     ReLU(),\n",
        "                     Linear(32,16, init_type='xavier'),\n",
        "                     ReLU(),\n",
        "                     Linear(16,10, init_type='xavier'),\n",
        "                     Softmax()], loss=NLLLoss(), optimizer=Adam(lr=learning_rate, betas=betas, eps=eps), model_name='MODEL')"
      ],
      "execution_count": 14,
      "outputs": []
    },
    {
      "cell_type": "markdown",
      "metadata": {
        "id": "YwBEnXKlL9wQ"
      },
      "source": [
        "## Training"
      ]
    },
    {
      "cell_type": "code",
      "metadata": {
        "id": "9JPsTMi9ffOi",
        "colab": {
          "base_uri": "https://localhost:8080/",
          "height": 576
        },
        "outputId": "216e6893-ba86-4e9a-953f-003af4d885c2"
      },
      "source": [
        "training_loop(EPOCHS, net, batches, vis)"
      ],
      "execution_count": 23,
      "outputs": [
        {
          "output_type": "display_data",
          "data": {
            "image/png": "[encoded data removed]",
            "text/plain": [
              "<Figure size 864x576 with 2 Axes>"
            ]
          },
          "metadata": {
            "tags": []
          }
        }
      ]
    },
    {
      "cell_type": "markdown",
      "metadata": {
        "id": "6BNA0GjKMN_y"
      },
      "source": [
        "## Evaluating Model"
      ]
    },
    {
      "cell_type": "code",
      "metadata": {
        "id": "krS9GYhhMpOx"
      },
      "source": [
        "Pred_ = net.predict(X_val)\n",
        "Pred_ = np.argmax(Pred_, axis=0)\n",
        "Y_val = Y_val.T.squeeze()\n",
        "\n",
        "eval = Evaluation(Y_val, Pred_, average='weighted')"
      ],
      "execution_count": 24,
      "outputs": []
    },
    {
      "cell_type": "code",
      "metadata": {
        "id": "WmSeuPq3M0cM",
        "colab": {
          "base_uri": "https://localhost:8080/"
        },
        "outputId": "ed9e6152-5ee9-4051-d6ed-df1650dcd9b0"
      },
      "source": [
        "conf_mat = eval.compute_confusion_mat()\n",
        "accuracy = eval.compute_accuracy()\n",
        "precision =eval.compute_precision()\n",
        "recall = eval.compute_recall()\n",
        "f1_score = eval.compute_f1_score()\n",
        "\n",
        "accuracy, precision, recall, f1_score"
      ],
      "execution_count": 25,
      "outputs": [
        {
          "output_type": "execute_result",
          "data": {
            "text/plain": [
              "(99.24917233560089, 96.22619047619048, 9.725362823907965, 96.2289243670178)"
            ]
          },
          "metadata": {
            "tags": []
          },
          "execution_count": 25
        }
      ]
    },
    {
      "cell_type": "code",
      "metadata": {
        "id": "cJEvojpENdpf",
        "colab": {
          "base_uri": "https://localhost:8080/",
          "height": 434
        },
        "outputId": "ca39617c-5fbf-49e3-bb5d-d179923d7128"
      },
      "source": [
        "vis.plot_confusion_matrix(conf_mat)"
      ],
      "execution_count": 26,
      "outputs": [
        {
          "output_type": "display_data",
          "data": {
            "image/png": "[encoded data removed]",
            "text/plain": [
              "<Figure size 720x504 with 2 Axes>"
            ]
          },
          "metadata": {
            "tags": []
          }
        }
      ]
    },
    {
      "cell_type": "markdown",
      "metadata": {
        "id": "Mzppcef7MLVI"
      },
      "source": [
        "## Saving Model"
      ]
    },
    {
      "cell_type": "code",
      "metadata": {
        "id": "vE2wn_03MNLs"
      },
      "source": [
        "net.save_model('/tmp')"
      ],
      "execution_count": 27,
      "outputs": []
    },
    {
      "cell_type": "markdown",
      "metadata": {
        "id": "O_xfcWGCO-9k"
      },
      "source": [
        "# **Training using Conv Layers**"
      ]
    },
    {
      "cell_type": "code",
      "metadata": {
        "id": "xGzu_lWwPD62",
        "colab": {
          "base_uri": "https://localhost:8080/"
        },
        "outputId": "c4af5611-af83-46c1-d145-503c28c55a32"
      },
      "source": [
        "data_loader = DataLoader(dataset_name='digit-recognizer', split_ratio=0.2, download=False, batch_size=32, shuffle=True)\n",
        "\n",
        "# Training\n",
        "X_train, y_train = data_loader.get_train_data(tensor_shape='4D', H=28, W=28, C=1)\n",
        "transform_ = Transform()\n",
        "X_train = transform_.normalize(X_train)\n",
        "\n",
        "# Reshaping tensor to 32*32*1\n",
        "X_train = padding(X_train, (2,2))\n",
        "X_train.shape\n",
        "\n",
        "# Batching \n",
        "batches = data_loader.get_batched_data(X_train, y_train)\n",
        "\n",
        "# Validation\n",
        "X_val, Y_val = data_loader.get_validation_data()\n",
        "X_val = transform_.normalize(X_val)"
      ],
      "execution_count": 28,
      "outputs": [
        {
          "output_type": "stream",
          "text": [
            "/content/digit-recognizer/train.csv\n"
          ],
          "name": "stdout"
        }
      ]
    },
    {
      "cell_type": "code",
      "metadata": {
        "colab": {
          "base_uri": "https://localhost:8080/"
        },
        "id": "BYH-FviIQmbl",
        "outputId": "2c5bb65d-ed58-4408-c3f0-697b79b3e97f"
      },
      "source": [
        "X_train.shape, y_train.shape"
      ],
      "execution_count": 29,
      "outputs": [
        {
          "output_type": "execute_result",
          "data": {
            "text/plain": [
              "((32, 32, 1, 33600), (1, 33600))"
            ]
          },
          "metadata": {
            "tags": []
          },
          "execution_count": 29
        }
      ]
    },
    {
      "cell_type": "markdown",
      "metadata": {
        "id": "QFAgSNxtSBRL"
      },
      "source": [
        "## Constructing LeNet-5"
      ]
    },
    {
      "cell_type": "code",
      "metadata": {
        "id": "x2aK_PqgPQH2"
      },
      "source": [
        "net = Model(layers=[Conv2D(in_channels=1, out_channels=6, kernel_size=(5,5), stride=(1,1), padding=(0,0), init_type='random'),\n",
        "                    Tanh(),\n",
        "                    AvgPool2D(kernel_size=2, stride=2, padding=0),\n",
        "             \n",
        "                    Conv2D(in_channels=6, out_channels=16, kernel_size=(5,5), stride=(1,1), padding=(0,0), init_type='random'), \n",
        "                    Tanh(), \n",
        "                    AvgPool2D(kernel_size=(2,2), stride=(2,2), padding=0),\n",
        "             \n",
        "                    Flatten(),\n",
        "                    Linear(400,120),\n",
        "                    Tanh(),\n",
        "                    Linear(120,84),\n",
        "                    Tanh(),\n",
        "                    Softmax()], loss=NLLLoss(), optimizer=SGD(lr=learning_rate, momentum=momentum), model_name='CNN_model')"
      ],
      "execution_count": 30,
      "outputs": []
    },
    {
      "cell_type": "code",
      "metadata": {
        "id": "Qhi2z3VKf81x"
      },
      "source": [
        "training_loop(EPOCHS, net, batches, vis)"
      ],
      "execution_count": null,
      "outputs": []
    },
    {
      "cell_type": "code",
      "metadata": {
        "id": "sZuW65eugJOh"
      },
      "source": [
        "Pred_ = net.predict(X_val)\n",
        "Pred_ = np.argmax(Pred_, axis=0)\n",
        "Y_val = Y_val.T.squeeze()\n",
        "\n",
        "eval = Evaluation(Y_val, Pred_, average='weighted')"
      ],
      "execution_count": null,
      "outputs": []
    },
    {
      "cell_type": "code",
      "metadata": {
        "id": "sEou5AgSgM5x"
      },
      "source": [
        "conf_mat = eval.compute_confusion_mat()\n",
        "accuracy = eval.compute_accuracy()\n",
        "precision =eval.compute_precision()\n",
        "recall = eval.compute_recall()\n",
        "f1_score = eval.compute_f1_score()\n",
        "\n",
        "accuracy, precision, recall, f1_score"
      ],
      "execution_count": null,
      "outputs": []
    },
    {
      "cell_type": "code",
      "metadata": {
        "id": "uEJnfVjEgNxh"
      },
      "source": [
        "vis.plot_confusion_matrix(conf_mat)"
      ],
      "execution_count": null,
      "outputs": []
    }
  ]
}